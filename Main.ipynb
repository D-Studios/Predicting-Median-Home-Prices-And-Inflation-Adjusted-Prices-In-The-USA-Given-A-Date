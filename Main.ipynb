{
  "nbformat": 4,
  "nbformat_minor": 0,
  "metadata": {
    "colab": {
      "name": "HousePrices.ipynb",
      "provenance": [],
      "collapsed_sections": [],
      "include_colab_link": true
    },
    "kernelspec": {
      "display_name": "Python 3",
      "name": "python3"
    },
    "language_info": {
      "name": "python"
    }
  },
  "cells": [
    {
      "cell_type": "markdown",
      "metadata": {
        "id": "view-in-github",
        "colab_type": "text"
      },
      "source": [
        "<a href=\"https://colab.research.google.com/github/D-Studios/Predicting-Median-Home-Prices-And-Inflation-Adjusted-Prices-In-The-USA-Given-A-Date/blob/main/Main.ipynb\" target=\"_parent\"><img src=\"https://colab.research.google.com/assets/colab-badge.svg\" alt=\"Open In Colab\"/></a>"
      ]
    },
    {
      "cell_type": "code",
      "metadata": {
        "id": "tlUnXbF0xJ7v"
      },
      "source": [
        "#Project: Predicting Median Home Prices And Inflation Adjusted Prices In The USA Given A Date\n",
        "#Created By: Devang Bhatnagar\n",
        "\n",
        "import requests\n",
        "import pandas as pd\n",
        "import datetime as dt\n",
        "import numpy as np\n",
        "from datetime import datetime\n",
        "from sklearn import linear_model\n",
        "from sklearn.metrics import mean_squared_error, r2_score\n",
        "import math\n",
        "\n",
        "#This code gets a table from a website to store as a csv file. \n",
        "url = 'https://dqydj.com/historical-home-prices/'\n",
        "html = requests.get(url).content\n",
        "df_list = pd.read_html(html)\n",
        "df = df_list[0]\n",
        "print(df)\n",
        "df.to_csv('data.csv')"
      ],
      "execution_count": null,
      "outputs": []
    },
    {
      "cell_type": "code",
      "metadata": {
        "id": "gYad19iyWTKq"
      },
      "source": [
        "#This function will aid in determining what century the year is in.\n",
        "def to_datetime(dates, historical_data=True):\n",
        "  for i in range(len(dates)):\n",
        "    numbers = dates[i].split(\"/\")\n",
        "    year = int(numbers[2])\n",
        "    if year>21 and historical_data:\n",
        "      year+=1900\n",
        "    numbers[2]=str(year)\n",
        "    dates[i]=numbers[0]+\"/\"+numbers[1]+\"/\"+numbers[2]\n",
        "  return dates\n"
      ],
      "execution_count": null,
      "outputs": []
    },
    {
      "cell_type": "code",
      "metadata": {
        "id": "-uWSeSBVxcp7"
      },
      "source": [
        "#The csv file is taken and all of the table values are converted from strings to numerical values that can be used for computation.\n",
        "Housing = pd.read_csv('data.csv')\n",
        "Housing = Housing.iloc[1: , :]\n",
        "housing_array=[]\n",
        "for element in Housing['0']:\n",
        "  housing_array.append(element)\n",
        "housing_array=to_datetime(housing_array)\n",
        "Housing['0'] = pd.to_datetime(housing_array)\n",
        "Housing['0'] = Housing['0'].map(dt.datetime.toordinal) - 712954\n",
        "Housing['1'] = Housing['1'].replace({'\\$':''}, regex = True)\n",
        "Housing['1'] = Housing['1'].replace({'\\,':''}, regex = True)\n",
        "Housing['2'] = Housing['2'].replace({'\\$':''}, regex = True)\n",
        "Housing['2'] = Housing['2'].replace({'\\,':''}, regex = True)\n",
        "Housing['0'] = Housing['0'].astype(int)\n",
        "Housing['1'] = Housing['1'].astype(float)\n",
        "Housing['2'] = Housing['2'].astype(float)\n",
        "Housing"
      ],
      "execution_count": null,
      "outputs": []
    },
    {
      "cell_type": "code",
      "metadata": {
        "id": "prXKVhJL0fGW"
      },
      "source": [
        "#The non-linear data is transformed using logarithms in order to create a more accurate linear regression model.\n",
        "Y1 = Housing['1']\n",
        "Y2 = Housing['2']\n",
        "Y1=[]\n",
        "Y2=[]\n",
        "for y in range(1, len(Housing['1'])+1):\n",
        "  Y1.append(math.log(Housing['1'][y]))\n",
        "for y in range(1, len(Housing['2'])+1):\n",
        "  Y2.append(math.log(Housing['2'][y]))\n",
        "print(Y1)\n",
        "Y2\n"
      ],
      "execution_count": null,
      "outputs": []
    },
    {
      "cell_type": "code",
      "metadata": {
        "id": "PiMqkCNS5JQZ"
      },
      "source": [
        "#The oordinal time for the date will be stored in the X variable.\n",
        "X = Housing['0']\n",
        "X"
      ],
      "execution_count": null,
      "outputs": []
    },
    {
      "cell_type": "code",
      "metadata": {
        "id": "MnhVgf--5cs4"
      },
      "source": [
        "#This library allows the usage of splitting data into training and testing datasets.\n",
        "from sklearn.model_selection import train_test_split"
      ],
      "execution_count": null,
      "outputs": []
    },
    {
      "cell_type": "code",
      "metadata": {
        "id": "ZAVppXOv5em4"
      },
      "source": [
        "#Training and testing datasets are created for both the Median Home Price (NSA) and the Inflation Adjusted Price.\n",
        "X_train1, X_test1, Y_train1, Y_test1 = train_test_split(X, Y1, test_size=0.2)\n",
        "X_train2, X_test2, Y_train2, Y_test2 = train_test_split(X, Y2, test_size=0.2)"
      ],
      "execution_count": null,
      "outputs": []
    },
    {
      "cell_type": "code",
      "metadata": {
        "id": "_LmVMRZR5wHX"
      },
      "source": [
        "#The models will be using linear regression.\n",
        "model1 = linear_model.LinearRegression()\n",
        "model2 = linear_model.LinearRegression()"
      ],
      "execution_count": null,
      "outputs": []
    },
    {
      "cell_type": "code",
      "metadata": {
        "id": "oY4y-z3dA5dC"
      },
      "source": [
        "#The X training datasets are converted into 2D arrays. They are fitted to their respective Y_trains.\n",
        "model1.fit(np.array(X_train1).reshape(-1,1), Y_train1)\n",
        "model2.fit(np.array(X_train2).reshape(-1,1), Y_train2)"
      ],
      "execution_count": null,
      "outputs": []
    },
    {
      "cell_type": "code",
      "metadata": {
        "id": "f2MbMdH3YIDT"
      },
      "source": [
        "#This block of code is used to make the model predict what the output should be given the input.\n",
        "Y_pred1 = model1.predict(np.array(X_test1).reshape(-1,1))\n",
        "Y_pred2 = model2.predict(np.array(X_test2).reshape(-1,1))\n",
        "Y_pred1"
      ],
      "execution_count": null,
      "outputs": []
    },
    {
      "cell_type": "code",
      "metadata": {
        "id": "WSG-isGtYZWm"
      },
      "source": [
        "#This block of code lists the attributes of the linear regression models, including the equations, mean squared errors, and r^2 scores.\n",
        "print(\"Median Home Price (NSA)\")\n",
        "print('Coefficients:', model1.coef_)\n",
        "print('Intercept:', model1.intercept_)\n",
        "print('Mean squared error (MSE): %.2f' % mean_squared_error(Y_test1, Y_pred1))\n",
        "print('Coefficient of determination (R^2): %.2f' % r2_score(Y_test1, Y_pred1))\n",
        " \n",
        "print(\"\\n\\nInflation Adjusted Price\")\n",
        "print('Coefficients:', model2.coef_)\n",
        "print('Intercept:', model2.intercept_)\n",
        "print('Mean squared error (MSE): %.2f'\n",
        "      % mean_squared_error(Y_test2, Y_pred2))\n",
        "print('Coefficient of determination (R^2): %.2f'\n",
        "      % r2_score(Y_test2, Y_pred2))"
      ],
      "execution_count": null,
      "outputs": []
    },
    {
      "cell_type": "code",
      "metadata": {
        "id": "GbZoCEbtLqaW"
      },
      "source": [
        "#Seaborn is used for statistical data visualization.\n",
        "import seaborn as sns"
      ],
      "execution_count": null,
      "outputs": []
    },
    {
      "cell_type": "code",
      "metadata": {
        "id": "iRFkMKlTLtd_"
      },
      "source": [
        "#This block of code shows the testing datasets for the outputs.\n",
        "print(Y_test1)\n",
        "print(\"\\n\\n\\n\")\n",
        "print(Y_test2)"
      ],
      "execution_count": null,
      "outputs": []
    },
    {
      "cell_type": "code",
      "metadata": {
        "id": "R9Bg86wHbPjG"
      },
      "source": [
        "#This block of code shows the predictions of outputs for the testing datasets of the x-variables.\n",
        "print(Y_pred1)\n",
        "print(\"\\n\\n\\n\")\n",
        "print(Y_pred2)"
      ],
      "execution_count": null,
      "outputs": []
    },
    {
      "cell_type": "code",
      "metadata": {
        "id": "AU3R1BZRMCIn"
      },
      "source": [
        "#This is a scatterplot where the testing dataset (Y_test1) is on the x-axis, while the predictions(Y_pred1) are on the y-axis.\n",
        "sns.scatterplot(x=Y_test1, y=Y_pred1)"
      ],
      "execution_count": null,
      "outputs": []
    },
    {
      "cell_type": "code",
      "metadata": {
        "id": "sRRM2xqebVi-"
      },
      "source": [
        "#This is the same scatterplot as above, except the points are changed to + signs instead of dots.\n",
        "sns.scatterplot(x=np.array(Y_test1), y=np.array(Y_pred1), marker=\"+\")"
      ],
      "execution_count": null,
      "outputs": []
    },
    {
      "cell_type": "code",
      "metadata": {
        "id": "EufuBcFxbbA8"
      },
      "source": [
        "#This is the same scatterplot as above, except this plot changes the alpha component of the points instead of the signs.\n",
        "sns.scatterplot(x=np.array(Y_test1), y=np.array(Y_pred1), alpha=0.2)"
      ],
      "execution_count": null,
      "outputs": []
    },
    {
      "cell_type": "code",
      "metadata": {
        "id": "Pm-w_w1kbmdG"
      },
      "source": [
        "#This is a scatterplot where the testing dataset (Y_test2) is on the x-axis, while the predictions(Y_pred2) are on the y-axis.\n",
        "sns.scatterplot(x=np.array(Y_test2), y=np.array(Y_pred2))"
      ],
      "execution_count": null,
      "outputs": []
    },
    {
      "cell_type": "code",
      "metadata": {
        "id": "DsyRtoyibojM"
      },
      "source": [
        "#This is the same scatterplot as above, except the points are changed to + signs instead of dots.\n",
        "sns.scatterplot(x=np.array(Y_test2), y=np.array(Y_pred2), marker=\"+\")"
      ],
      "execution_count": null,
      "outputs": []
    },
    {
      "cell_type": "code",
      "metadata": {
        "id": "RjIOsxQqbsIx"
      },
      "source": [
        "#This is the same scatterplot as above, except this plot changes the alpha component of the points instead of the signs.\n",
        "sns.scatterplot(x=np.array(Y_test2), y=np.array(Y_pred2), alpha=0.2)"
      ],
      "execution_count": null,
      "outputs": []
    },
    {
      "cell_type": "code",
      "metadata": {
        "id": "EGoMwWssIeyw"
      },
      "source": [
        "#This block of code is used to calculate the residuals from the predictions and actual datapoints.\n",
        "residuals_median_home_price = []\n",
        "for i in range(0, len(Y_pred1)):\n",
        "  residuals_median_home_price.append(Y_test1[i]-Y_pred1[i])\n",
        "residuals_inflation_adjusted_price=[]\n",
        "for i in range(0, len(Y_pred2)):\n",
        "  residuals_inflation_adjusted_price.append(Y_test2[i]-Y_pred2[i])"
      ],
      "execution_count": null,
      "outputs": []
    },
    {
      "cell_type": "code",
      "metadata": {
        "id": "T2F2Ix10JIgR"
      },
      "source": [
        "#This is a scatterplot where the tested x-points are on the x-axis, while the residuals for the Median Home Price are on the y-axis. \n",
        "sns.scatterplot(x=X_test1, y=residuals_median_home_price)"
      ],
      "execution_count": null,
      "outputs": []
    },
    {
      "cell_type": "code",
      "metadata": {
        "id": "MdI4ZIzaJa0I"
      },
      "source": [
        "#This is the same scatterplot as above, except the points are changed to + signs instead of dots.\n",
        "sns.scatterplot(x=X_test1, y=residuals_median_home_price, marker='+')"
      ],
      "execution_count": null,
      "outputs": []
    },
    {
      "cell_type": "code",
      "metadata": {
        "id": "arLGDmvOJfd1"
      },
      "source": [
        "#This is the same scatterplot as above, except this plot changes the alpha component of the points instead of the signs.\n",
        "sns.scatterplot(x=X_test1, y=residuals_median_home_price, alpha=0.2)"
      ],
      "execution_count": null,
      "outputs": []
    },
    {
      "cell_type": "code",
      "metadata": {
        "id": "mInMavLbJjVN"
      },
      "source": [
        "#This is a scatterplot where the tested x-points are on the x-axis, while the residuals for the Inflation Adjusted Price are on the y-axis. \n",
        "sns.scatterplot(x=X_test2, y=residuals_inflation_adjusted_price)"
      ],
      "execution_count": null,
      "outputs": []
    },
    {
      "cell_type": "code",
      "metadata": {
        "id": "ov-Zn4_lJ0cu"
      },
      "source": [
        "#This is the same scatterplot as above, except the points are changed to + signs instead of dots.\n",
        "sns.scatterplot(x=X_test2, y=residuals_inflation_adjusted_price, marker='+')"
      ],
      "execution_count": null,
      "outputs": []
    },
    {
      "cell_type": "code",
      "metadata": {
        "id": "d6VqjRhaJ4ks"
      },
      "source": [
        "#This is the same scatterplot as above, except this plot changes the alpha component of the points instead of the signs.\n",
        "sns.scatterplot(x=X_test2, y=residuals_inflation_adjusted_price, alpha=0.2)"
      ],
      "execution_count": null,
      "outputs": []
    },
    {
      "cell_type": "code",
      "metadata": {
        "colab": {
          "base_uri": "https://localhost:8080/"
        },
        "id": "GX55Kg0Rbz1e",
        "outputId": "ec29d4c3-6f39-4795-87cc-b6c51e6531b3"
      },
      "source": [
        "#In this block of code, the program will try to predict the Median Home Price and Inflation Adjusted Price given user entered dates.\n",
        "print(\"Predicting Home Prices Using Dates: \")\n",
        "while True:\n",
        "  try:\n",
        "    date=input(\"Enter in a date in month/day/year format. Type STOP to stop. \")\n",
        "    if date==\"STOP\":\n",
        "      break\n",
        "    date_array=[]\n",
        "    date_array.append(date)\n",
        "    date_array=to_datetime(date_array, False)\n",
        "    date_array=pd.to_datetime(date_array)\n",
        "    date_array=date_array.map(dt.datetime.toordinal)-712954\n",
        "    date_array.astype(int)\n",
        "    x = np.array(date_array).reshape(-1,1)\n",
        "    y = model1.predict(x)[0]\n",
        "    y=int(math.exp(y))\n",
        "    print(\"The Median Home Price (NSA) on this date will probably be around \" + str(y)+\" dollars\")\n",
        "    y2=model2.predict(x)[0]\n",
        "    y2=int(math.exp(y2))\n",
        "    print(\"The Inflation Adjusted Price on this date will probably be around \" + str(y2) + \" dollars\")\n",
        "    print(\"--------------------------------------------------------------------------------------------\")\n",
        "  except:\n",
        "    print(\"An error has occurred. Please try again.\")"
      ],
      "execution_count": null,
      "outputs": [
        {
          "output_type": "stream",
          "text": [
            "Predicting Home Prices Using Dates: \n"
          ],
          "name": "stdout"
        }
      ]
    }
  ]
}